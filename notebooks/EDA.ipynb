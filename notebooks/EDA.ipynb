{
 "cells": [
  {
   "cell_type": "code",
   "execution_count": 1,
   "metadata": {},
   "outputs": [],
   "source": [
    "import pandas as pd\n",
    "import geopandas as gpd\n",
    "\n",
    "from sklearn.metrics import f1_score\n",
    "import seaborn as sns\n",
    "import pylab as plt\n",
    "\n",
    "%matplotlib inline"
   ]
  },
  {
   "cell_type": "markdown",
   "metadata": {},
   "source": [
    "# Load in target data"
   ]
  },
  {
   "cell_type": "code",
   "execution_count": 2,
   "metadata": {},
   "outputs": [
    {
     "data": {
      "text/html": [
       "<div>\n",
       "<style scoped>\n",
       "    .dataframe tbody tr th:only-of-type {\n",
       "        vertical-align: middle;\n",
       "    }\n",
       "\n",
       "    .dataframe tbody tr th {\n",
       "        vertical-align: top;\n",
       "    }\n",
       "\n",
       "    .dataframe thead th {\n",
       "        text-align: right;\n",
       "    }\n",
       "</style>\n",
       "<table border=\"1\" class=\"dataframe\">\n",
       "  <thead>\n",
       "    <tr style=\"text-align: right;\">\n",
       "      <th></th>\n",
       "      <th>EventId</th>\n",
       "      <th>Occurrence Local Date Time</th>\n",
       "      <th>Reporting Agency</th>\n",
       "      <th>Cause</th>\n",
       "      <th>Subcause</th>\n",
       "      <th>Status</th>\n",
       "      <th>longitude</th>\n",
       "      <th>latitude</th>\n",
       "      <th>road_segment_id</th>\n",
       "      <th>isAccident</th>\n",
       "      <th>isPedestrian</th>\n",
       "    </tr>\n",
       "  </thead>\n",
       "  <tbody>\n",
       "    <tr>\n",
       "      <th>0</th>\n",
       "      <td>60558</td>\n",
       "      <td>2016-01-01 00:53:31</td>\n",
       "      <td>Cam</td>\n",
       "      <td>Stationary Vehicle</td>\n",
       "      <td>Vehicle On Shoulder</td>\n",
       "      <td>Closed</td>\n",
       "      <td>18.540896</td>\n",
       "      <td>-33.888275</td>\n",
       "      <td>S0B3CGQ</td>\n",
       "      <td>False</td>\n",
       "      <td>False</td>\n",
       "    </tr>\n",
       "    <tr>\n",
       "      <th>1</th>\n",
       "      <td>60559</td>\n",
       "      <td>2016-01-01 00:54:46</td>\n",
       "      <td>CAMERA</td>\n",
       "      <td>Accident</td>\n",
       "      <td>With A Fixed Object</td>\n",
       "      <td>Closed</td>\n",
       "      <td>18.930756</td>\n",
       "      <td>-34.140857</td>\n",
       "      <td>RYJYAPI</td>\n",
       "      <td>True</td>\n",
       "      <td>False</td>\n",
       "    </tr>\n",
       "    <tr>\n",
       "      <th>2</th>\n",
       "      <td>60560</td>\n",
       "      <td>2016-01-01 02:26:16</td>\n",
       "      <td>Law Enforcement</td>\n",
       "      <td>Accident</td>\n",
       "      <td>Multi Vehicle</td>\n",
       "      <td>Closed</td>\n",
       "      <td>18.553358</td>\n",
       "      <td>-33.959154</td>\n",
       "      <td>U3KP57C</td>\n",
       "      <td>True</td>\n",
       "      <td>False</td>\n",
       "    </tr>\n",
       "    <tr>\n",
       "      <th>3</th>\n",
       "      <td>60561</td>\n",
       "      <td>2016-01-01 02:56:26</td>\n",
       "      <td>CAMERA</td>\n",
       "      <td>Stationary Vehicle</td>\n",
       "      <td>Vehicle On Shoulder</td>\n",
       "      <td>Closed</td>\n",
       "      <td>18.677556</td>\n",
       "      <td>-33.895258</td>\n",
       "      <td>RY0TRQ8</td>\n",
       "      <td>False</td>\n",
       "      <td>False</td>\n",
       "    </tr>\n",
       "    <tr>\n",
       "      <th>4</th>\n",
       "      <td>60562</td>\n",
       "      <td>2016-01-01 03:40:48</td>\n",
       "      <td>CAMERA</td>\n",
       "      <td>Accident</td>\n",
       "      <td>Multi Vehicle</td>\n",
       "      <td>Closed</td>\n",
       "      <td>18.837132</td>\n",
       "      <td>-34.087051</td>\n",
       "      <td>8LOVJZ3</td>\n",
       "      <td>True</td>\n",
       "      <td>False</td>\n",
       "    </tr>\n",
       "  </tbody>\n",
       "</table>\n",
       "</div>"
      ],
      "text/plain": [
       "   EventId Occurrence Local Date Time Reporting Agency               Cause  \\\n",
       "0    60558        2016-01-01 00:53:31              Cam  Stationary Vehicle   \n",
       "1    60559        2016-01-01 00:54:46           CAMERA            Accident   \n",
       "2    60560        2016-01-01 02:26:16  Law Enforcement            Accident   \n",
       "3    60561        2016-01-01 02:56:26           CAMERA  Stationary Vehicle   \n",
       "4    60562        2016-01-01 03:40:48           CAMERA            Accident   \n",
       "\n",
       "              Subcause  Status  longitude   latitude road_segment_id  \\\n",
       "0  Vehicle On Shoulder  Closed  18.540896 -33.888275         S0B3CGQ   \n",
       "1  With A Fixed Object  Closed  18.930756 -34.140857         RYJYAPI   \n",
       "2        Multi Vehicle  Closed  18.553358 -33.959154         U3KP57C   \n",
       "3  Vehicle On Shoulder  Closed  18.677556 -33.895258         RY0TRQ8   \n",
       "4        Multi Vehicle  Closed  18.837132 -34.087051         8LOVJZ3   \n",
       "\n",
       "   isAccident  isPedestrian  \n",
       "0       False         False  \n",
       "1        True         False  \n",
       "2        True         False  \n",
       "3       False         False  \n",
       "4        True         False  "
      ]
     },
     "execution_count": 2,
     "metadata": {},
     "output_type": "execute_result"
    }
   ],
   "source": [
    "# load in target\n",
    "target = pd.read_csv('../data/train.csv')\n",
    "target['Occurrence Local Date Time'] = pd.to_datetime(target['Occurrence Local Date Time'])\n",
    "target.head()"
   ]
  },
  {
   "cell_type": "code",
   "execution_count": 3,
   "metadata": {},
   "outputs": [
    {
     "data": {
      "text/plain": [
       "(Timestamp('2016-01-01 00:53:31'), Timestamp('2018-12-31 23:45:00'))"
      ]
     },
     "execution_count": 3,
     "metadata": {},
     "output_type": "execute_result"
    }
   ],
   "source": [
    "target['Occurrence Local Date Time'].min(), target['Occurrence Local Date Time'].max() "
   ]
  },
  {
   "cell_type": "markdown",
   "metadata": {},
   "source": [
    "Need to get data for model in these ranges"
   ]
  },
  {
   "cell_type": "markdown",
   "metadata": {},
   "source": [
    "## Quick EDA about target"
   ]
  },
  {
   "cell_type": "code",
   "execution_count": 4,
   "metadata": {},
   "outputs": [
    {
     "name": "stdout",
     "output_type": "stream",
     "text": [
      "8.8% of events are Accidents\n"
     ]
    }
   ],
   "source": [
    "# About target\n",
    "print('{:2.1f}% of events are Accidents'.format(target.isAccident.sum() / target.shape[0]*100))"
   ]
  },
  {
   "cell_type": "code",
   "execution_count": 5,
   "metadata": {},
   "outputs": [
    {
     "data": {
      "text/plain": [
       "544"
      ]
     },
     "execution_count": 5,
     "metadata": {},
     "output_type": "execute_result"
    }
   ],
   "source": [
    "# number of unique segments\n",
    "target.road_segment_id.nunique()"
   ]
  },
  {
   "cell_type": "code",
   "execution_count": 6,
   "metadata": {},
   "outputs": [
    {
     "data": {
      "text/plain": [
       "0.16134182135133934"
      ]
     },
     "execution_count": 6,
     "metadata": {},
     "output_type": "execute_result"
    }
   ],
   "source": [
    "# avg accident per road segment\n",
    "(target.groupby('road_segment_id').isAccident.sum() / target.groupby('road_segment_id').isAccident.count()).mean()"
   ]
  },
  {
   "cell_type": "code",
   "execution_count": 7,
   "metadata": {},
   "outputs": [
    {
     "data": {
      "text/plain": [
       "0.13786764705882354"
      ]
     },
     "execution_count": 7,
     "metadata": {},
     "output_type": "execute_result"
    }
   ],
   "source": [
    "# number of road segments without accidents\n",
    "(target.groupby('road_segment_id').isAccident.sum() == 0).sum() / target.road_segment_id.nunique()"
   ]
  },
  {
   "cell_type": "code",
   "execution_count": null,
   "metadata": {},
   "outputs": [],
   "source": []
  },
  {
   "cell_type": "code",
   "execution_count": 8,
   "metadata": {},
   "outputs": [
    {
     "data": {
      "text/plain": [
       "Text(0.5, 0, 'Number of Accidents per Segment')"
      ]
     },
     "execution_count": 8,
     "metadata": {},
     "output_type": "execute_result"
    },
    {
     "data": {
      "image/png": "[encoded data removed]",
      "text/plain": [
       "<Figure size 432x288 with 1 Axes>"
      ]
     },
     "metadata": {
      "needs_background": "light"
     },
     "output_type": "display_data"
    }
   ],
   "source": [
    "target.groupby('road_segment_id').isAccident.sum().hist()\n",
    "plt.xlabel('Number of Accidents per Segment')"
   ]
  },
  {
   "cell_type": "code",
   "execution_count": 9,
   "metadata": {},
   "outputs": [
    {
     "data": {
      "text/plain": [
       "Text(0, 0.5, 'Number of Accidents')"
      ]
     },
     "execution_count": 9,
     "metadata": {},
     "output_type": "execute_result"
    },
    {
     "data": {
      "image/png": "[encoded data removed]",
      "text/plain": [
       "<Figure size 432x288 with 1 Axes>"
      ]
     },
     "metadata": {
      "needs_background": "light"
     },
     "output_type": "display_data"
    }
   ],
   "source": [
    "# time when accidents occur\n",
    "per_hour = target.set_index('Occurrence Local Date Time').groupby(pd.Grouper(freq='H'))[['isAccident']].sum()\n",
    "per_hour['hour'] = per_hour.index.hour\n",
    "per_hour.groupby('hour').isAccident.sum().plot(kind='bar')\n",
    "plt.ylabel('Number of Accidents')"
   ]
  },
  {
   "cell_type": "code",
   "execution_count": 10,
   "metadata": {},
   "outputs": [
    {
     "data": {
      "text/plain": [
       "Text(0, 0.5, 'Number of Accidents')"
      ]
     },
     "execution_count": 10,
     "metadata": {},
     "output_type": "execute_result"
    },
    {
     "data": {
      "image/png": "[encoded data removed]",
      "text/plain": [
       "<Figure size 432x288 with 1 Axes>"
      ]
     },
     "metadata": {
      "needs_background": "light"
     },
     "output_type": "display_data"
    }
   ],
   "source": [
    "per_hour['day_of_week'] = per_hour.index.day_name()\n",
    "per_hour.groupby('day_of_week').isAccident.sum().plot(kind='bar')\n",
    "plt.ylabel('Number of Accidents')"
   ]
  },
  {
   "cell_type": "markdown",
   "metadata": {},
   "source": [
    "# SANRAL data"
   ]
  },
  {
   "cell_type": "code",
   "execution_count": null,
   "metadata": {},
   "outputs": [],
   "source": []
  },
  {
   "cell_type": "code",
   "execution_count": 17,
   "metadata": {},
   "outputs": [
    {
     "data": {
      "text/html": [
       "<div>\n",
       "<style scoped>\n",
       "    .dataframe tbody tr th:only-of-type {\n",
       "        vertical-align: middle;\n",
       "    }\n",
       "\n",
       "    .dataframe tbody tr th {\n",
       "        vertical-align: top;\n",
       "    }\n",
       "\n",
       "    .dataframe thead th {\n",
       "        text-align: right;\n",
       "    }\n",
       "</style>\n",
       "<table border=\"1\" class=\"dataframe\">\n",
       "  <thead>\n",
       "    <tr style=\"text-align: right;\">\n",
       "      <th></th>\n",
       "      <th>0</th>\n",
       "      <th>1</th>\n",
       "      <th>2</th>\n",
       "      <th>3</th>\n",
       "      <th>4</th>\n",
       "      <th>5</th>\n",
       "      <th>6</th>\n",
       "    </tr>\n",
       "  </thead>\n",
       "  <tbody>\n",
       "    <tr>\n",
       "      <th>0</th>\n",
       "      <td>WC</td>\n",
       "      <td>DS VDS 101 IB</td>\n",
       "      <td>2017-07-01 00:00:00.0000000</td>\n",
       "      <td>0</td>\n",
       "      <td>1</td>\n",
       "      <td>426</td>\n",
       "      <td>96.07</td>\n",
       "    </tr>\n",
       "    <tr>\n",
       "      <th>1</th>\n",
       "      <td>WC</td>\n",
       "      <td>DS VDS 101 IB</td>\n",
       "      <td>2017-07-01 00:00:00.0000000</td>\n",
       "      <td>0</td>\n",
       "      <td>2</td>\n",
       "      <td>4</td>\n",
       "      <td>96.07</td>\n",
       "    </tr>\n",
       "    <tr>\n",
       "      <th>2</th>\n",
       "      <td>WC</td>\n",
       "      <td>DS VDS 101 IB</td>\n",
       "      <td>2017-07-01 00:00:00.0000000</td>\n",
       "      <td>0</td>\n",
       "      <td>3</td>\n",
       "      <td>9</td>\n",
       "      <td>96.07</td>\n",
       "    </tr>\n",
       "    <tr>\n",
       "      <th>3</th>\n",
       "      <td>WC</td>\n",
       "      <td>DS VDS 101 OB</td>\n",
       "      <td>2017-07-01 00:00:00.0000000</td>\n",
       "      <td>0</td>\n",
       "      <td>1</td>\n",
       "      <td>751</td>\n",
       "      <td>96.66</td>\n",
       "    </tr>\n",
       "    <tr>\n",
       "      <th>4</th>\n",
       "      <td>WC</td>\n",
       "      <td>DS VDS 101 OB</td>\n",
       "      <td>2017-07-01 00:00:00.0000000</td>\n",
       "      <td>0</td>\n",
       "      <td>2</td>\n",
       "      <td>4</td>\n",
       "      <td>96.66</td>\n",
       "    </tr>\n",
       "  </tbody>\n",
       "</table>\n",
       "</div>"
      ],
      "text/plain": [
       "    0              1                            2  3  4    5      6\n",
       "0  WC  DS VDS 101 IB  2017-07-01 00:00:00.0000000  0  1  426  96.07\n",
       "1  WC  DS VDS 101 IB  2017-07-01 00:00:00.0000000  0  2    4  96.07\n",
       "2  WC  DS VDS 101 IB  2017-07-01 00:00:00.0000000  0  3    9  96.07\n",
       "3  WC  DS VDS 101 OB  2017-07-01 00:00:00.0000000  0  1  751  96.66\n",
       "4  WC  DS VDS 101 OB  2017-07-01 00:00:00.0000000  0  2    4  96.66"
      ]
     },
     "execution_count": 17,
     "metadata": {},
     "output_type": "execute_result"
    }
   ],
   "source": [
    "sanral = pd.read_csv('../data/VDS_Vehicle Detection Sensor Data/2017/WC July 2017 Hourly.csv',sep=';',header=None)\n",
    "sanral.head()"
   ]
  },
  {
   "cell_type": "markdown",
   "metadata": {},
   "source": [
    "# Uber data"
   ]
  },
  {
   "cell_type": "code",
   "execution_count": 20,
   "metadata": {},
   "outputs": [
    {
     "data": {
      "text/html": [
       "<div>\n",
       "<style scoped>\n",
       "    .dataframe tbody tr th:only-of-type {\n",
       "        vertical-align: middle;\n",
       "    }\n",
       "\n",
       "    .dataframe tbody tr th {\n",
       "        vertical-align: top;\n",
       "    }\n",
       "\n",
       "    .dataframe thead th {\n",
       "        text-align: right;\n",
       "    }\n",
       "</style>\n",
       "<table border=\"1\" class=\"dataframe\">\n",
       "  <thead>\n",
       "    <tr style=\"text-align: right;\">\n",
       "      <th></th>\n",
       "      <th>sourceid</th>\n",
       "      <th>dstid</th>\n",
       "      <th>hod</th>\n",
       "      <th>mean_travel_time</th>\n",
       "      <th>standard_deviation_travel_time</th>\n",
       "      <th>geometric_mean_travel_time</th>\n",
       "      <th>geometric_standard_deviation_travel_time</th>\n",
       "    </tr>\n",
       "  </thead>\n",
       "  <tbody>\n",
       "    <tr>\n",
       "      <th>0</th>\n",
       "      <td>1</td>\n",
       "      <td>2</td>\n",
       "      <td>4</td>\n",
       "      <td>381.57</td>\n",
       "      <td>362.21</td>\n",
       "      <td>273.97</td>\n",
       "      <td>2.20</td>\n",
       "    </tr>\n",
       "    <tr>\n",
       "      <th>1</th>\n",
       "      <td>1</td>\n",
       "      <td>2</td>\n",
       "      <td>11</td>\n",
       "      <td>426.65</td>\n",
       "      <td>492.64</td>\n",
       "      <td>324.35</td>\n",
       "      <td>1.94</td>\n",
       "    </tr>\n",
       "    <tr>\n",
       "      <th>2</th>\n",
       "      <td>1</td>\n",
       "      <td>2</td>\n",
       "      <td>18</td>\n",
       "      <td>355.03</td>\n",
       "      <td>378.16</td>\n",
       "      <td>274.10</td>\n",
       "      <td>1.92</td>\n",
       "    </tr>\n",
       "    <tr>\n",
       "      <th>3</th>\n",
       "      <td>1</td>\n",
       "      <td>3</td>\n",
       "      <td>1</td>\n",
       "      <td>131.52</td>\n",
       "      <td>134.60</td>\n",
       "      <td>90.41</td>\n",
       "      <td>2.51</td>\n",
       "    </tr>\n",
       "    <tr>\n",
       "      <th>4</th>\n",
       "      <td>1</td>\n",
       "      <td>3</td>\n",
       "      <td>8</td>\n",
       "      <td>131.34</td>\n",
       "      <td>142.81</td>\n",
       "      <td>92.70</td>\n",
       "      <td>2.35</td>\n",
       "    </tr>\n",
       "  </tbody>\n",
       "</table>\n",
       "</div>"
      ],
      "text/plain": [
       "   sourceid  dstid  hod  mean_travel_time  standard_deviation_travel_time  \\\n",
       "0         1      2    4            381.57                          362.21   \n",
       "1         1      2   11            426.65                          492.64   \n",
       "2         1      2   18            355.03                          378.16   \n",
       "3         1      3    1            131.52                          134.60   \n",
       "4         1      3    8            131.34                          142.81   \n",
       "\n",
       "   geometric_mean_travel_time  geometric_standard_deviation_travel_time  \n",
       "0                      273.97                                      2.20  \n",
       "1                      324.35                                      1.94  \n",
       "2                      274.10                                      1.92  \n",
       "3                       90.41                                      2.51  \n",
       "4                       92.70                                      2.35  "
      ]
     },
     "execution_count": 20,
     "metadata": {},
     "output_type": "execute_result"
    }
   ],
   "source": [
    "# load csv\n",
    "uber_travel_time = pd.read_csv('../data/Travels times/cape_town-travel_zones-2016-1-All-HourlyAggregate.csv')\n",
    "uber_travel_time.head()"
   ]
  },
  {
   "cell_type": "code",
   "execution_count": 25,
   "metadata": {},
   "outputs": [
    {
     "data": {
      "text/html": [
       "<div>\n",
       "<style scoped>\n",
       "    .dataframe tbody tr th:only-of-type {\n",
       "        vertical-align: middle;\n",
       "    }\n",
       "\n",
       "    .dataframe tbody tr th {\n",
       "        vertical-align: top;\n",
       "    }\n",
       "\n",
       "    .dataframe thead th {\n",
       "        text-align: right;\n",
       "    }\n",
       "</style>\n",
       "<table border=\"1\" class=\"dataframe\">\n",
       "  <thead>\n",
       "    <tr style=\"text-align: right;\">\n",
       "      <th></th>\n",
       "      <th>TZ2015</th>\n",
       "      <th>MOVEMENT_ID</th>\n",
       "      <th>DISPLAY_NAME</th>\n",
       "      <th>geometry</th>\n",
       "    </tr>\n",
       "  </thead>\n",
       "  <tbody>\n",
       "    <tr>\n",
       "      <th>0</th>\n",
       "      <td>101</td>\n",
       "      <td>1</td>\n",
       "      <td>Zone 101</td>\n",
       "      <td>POLYGON Z ((18.42354 -33.91838 0.00000, 18.423...</td>\n",
       "    </tr>\n",
       "    <tr>\n",
       "      <th>1</th>\n",
       "      <td>102</td>\n",
       "      <td>2</td>\n",
       "      <td>Zone 102</td>\n",
       "      <td>POLYGON Z ((18.42662 -33.93065 0.00000, 18.426...</td>\n",
       "    </tr>\n",
       "    <tr>\n",
       "      <th>2</th>\n",
       "      <td>103</td>\n",
       "      <td>3</td>\n",
       "      <td>Zone 103</td>\n",
       "      <td>POLYGON Z ((18.41961 -33.92199 0.00000, 18.418...</td>\n",
       "    </tr>\n",
       "    <tr>\n",
       "      <th>3</th>\n",
       "      <td>104</td>\n",
       "      <td>4</td>\n",
       "      <td>Zone 104</td>\n",
       "      <td>POLYGON Z ((18.42354 -33.91838 0.00000, 18.423...</td>\n",
       "    </tr>\n",
       "    <tr>\n",
       "      <th>4</th>\n",
       "      <td>105</td>\n",
       "      <td>5</td>\n",
       "      <td>Zone 105</td>\n",
       "      <td>POLYGON Z ((18.43103 -33.92362 0.00000, 18.430...</td>\n",
       "    </tr>\n",
       "  </tbody>\n",
       "</table>\n",
       "</div>"
      ],
      "text/plain": [
       "   TZ2015 MOVEMENT_ID DISPLAY_NAME  \\\n",
       "0     101           1     Zone 101   \n",
       "1     102           2     Zone 102   \n",
       "2     103           3     Zone 103   \n",
       "3     104           4     Zone 104   \n",
       "4     105           5     Zone 105   \n",
       "\n",
       "                                            geometry  \n",
       "0  POLYGON Z ((18.42354 -33.91838 0.00000, 18.423...  \n",
       "1  POLYGON Z ((18.42662 -33.93065 0.00000, 18.426...  \n",
       "2  POLYGON Z ((18.41961 -33.92199 0.00000, 18.418...  \n",
       "3  POLYGON Z ((18.42354 -33.91838 0.00000, 18.423...  \n",
       "4  POLYGON Z ((18.43103 -33.92362 0.00000, 18.430...  "
      ]
     },
     "execution_count": 25,
     "metadata": {},
     "output_type": "execute_result"
    },
    {
     "data": {
      "image/png": "[encoded data removed]",
      "text/plain": [
       "<Figure size 432x288 with 1 Axes>"
      ]
     },
     "metadata": {
      "needs_background": "light"
     },
     "output_type": "display_data"
    }
   ],
   "source": [
    "uber_shapefile = gpd.read_file('../data/cape_town_travel_zones.json')\n",
    "uber_shapefile.geometry.plot()\n",
    "uber_shapefile.head()"
   ]
  },
  {
   "cell_type": "markdown",
   "metadata": {},
   "source": [
    "# Road data"
   ]
  },
  {
   "cell_type": "code",
   "execution_count": 26,
   "metadata": {},
   "outputs": [
    {
     "data": {
      "text/html": [
       "<div>\n",
       "<style scoped>\n",
       "    .dataframe tbody tr th:only-of-type {\n",
       "        vertical-align: middle;\n",
       "    }\n",
       "\n",
       "    .dataframe tbody tr th {\n",
       "        vertical-align: top;\n",
       "    }\n",
       "\n",
       "    .dataframe thead th {\n",
       "        text-align: right;\n",
       "    }\n",
       "</style>\n",
       "<table border=\"1\" class=\"dataframe\">\n",
       "  <thead>\n",
       "    <tr style=\"text-align: right;\">\n",
       "      <th></th>\n",
       "      <th>ROADNO</th>\n",
       "      <th>CLASS</th>\n",
       "      <th>REGION</th>\n",
       "      <th>WIDTH</th>\n",
       "      <th>LANES</th>\n",
       "      <th>SURFTYPE</th>\n",
       "      <th>PAVETYPE</th>\n",
       "      <th>CONDITION</th>\n",
       "      <th>length_1</th>\n",
       "      <th>segment_id</th>\n",
       "      <th>geometry</th>\n",
       "    </tr>\n",
       "  </thead>\n",
       "  <tbody>\n",
       "    <tr>\n",
       "      <th>0</th>\n",
       "      <td>R300</td>\n",
       "      <td>Primary</td>\n",
       "      <td>Western Cape</td>\n",
       "      <td>20.2</td>\n",
       "      <td>2</td>\n",
       "      <td>Paved</td>\n",
       "      <td>FLEX</td>\n",
       "      <td>Good</td>\n",
       "      <td>471.207</td>\n",
       "      <td>D1U6OOF</td>\n",
       "      <td>LINESTRING (18.65262 -33.97724, 18.65264 -33.9...</td>\n",
       "    </tr>\n",
       "    <tr>\n",
       "      <th>1</th>\n",
       "      <td>R300</td>\n",
       "      <td>Primary</td>\n",
       "      <td>Western Cape</td>\n",
       "      <td>20.2</td>\n",
       "      <td>2</td>\n",
       "      <td>Paved</td>\n",
       "      <td>FLEX</td>\n",
       "      <td>Good</td>\n",
       "      <td>471.207</td>\n",
       "      <td>NG4X2MD</td>\n",
       "      <td>LINESTRING (18.65347 -33.97309, 18.65347 -33.9...</td>\n",
       "    </tr>\n",
       "    <tr>\n",
       "      <th>2</th>\n",
       "      <td>R300</td>\n",
       "      <td>Primary</td>\n",
       "      <td>Western Cape</td>\n",
       "      <td>20.2</td>\n",
       "      <td>2</td>\n",
       "      <td>Paved</td>\n",
       "      <td>FLEX</td>\n",
       "      <td>Good</td>\n",
       "      <td>471.207</td>\n",
       "      <td>792705Z</td>\n",
       "      <td>LINESTRING (18.65431 -33.96894, 18.65432 -33.9...</td>\n",
       "    </tr>\n",
       "    <tr>\n",
       "      <th>3</th>\n",
       "      <td>R300</td>\n",
       "      <td>Primary</td>\n",
       "      <td>Western Cape</td>\n",
       "      <td>20.2</td>\n",
       "      <td>2</td>\n",
       "      <td>Paved</td>\n",
       "      <td>FLEX</td>\n",
       "      <td>Good</td>\n",
       "      <td>471.207</td>\n",
       "      <td>IK67XHB</td>\n",
       "      <td>LINESTRING (18.65515 -33.96480, 18.65517 -33.9...</td>\n",
       "    </tr>\n",
       "    <tr>\n",
       "      <th>4</th>\n",
       "      <td>R300</td>\n",
       "      <td>Primary</td>\n",
       "      <td>Western Cape</td>\n",
       "      <td>20.2</td>\n",
       "      <td>2</td>\n",
       "      <td>Paved</td>\n",
       "      <td>FLEX</td>\n",
       "      <td>Good</td>\n",
       "      <td>471.207</td>\n",
       "      <td>OWCF2MH</td>\n",
       "      <td>LINESTRING (18.65600 -33.96065, 18.65602 -33.9...</td>\n",
       "    </tr>\n",
       "  </tbody>\n",
       "</table>\n",
       "</div>"
      ],
      "text/plain": [
       "  ROADNO    CLASS        REGION  WIDTH  LANES SURFTYPE PAVETYPE CONDITION  \\\n",
       "0   R300  Primary  Western Cape   20.2      2    Paved     FLEX      Good   \n",
       "1   R300  Primary  Western Cape   20.2      2    Paved     FLEX      Good   \n",
       "2   R300  Primary  Western Cape   20.2      2    Paved     FLEX      Good   \n",
       "3   R300  Primary  Western Cape   20.2      2    Paved     FLEX      Good   \n",
       "4   R300  Primary  Western Cape   20.2      2    Paved     FLEX      Good   \n",
       "\n",
       "   length_1 segment_id                                           geometry  \n",
       "0   471.207    D1U6OOF  LINESTRING (18.65262 -33.97724, 18.65264 -33.9...  \n",
       "1   471.207    NG4X2MD  LINESTRING (18.65347 -33.97309, 18.65347 -33.9...  \n",
       "2   471.207    792705Z  LINESTRING (18.65431 -33.96894, 18.65432 -33.9...  \n",
       "3   471.207    IK67XHB  LINESTRING (18.65515 -33.96480, 18.65517 -33.9...  \n",
       "4   471.207    OWCF2MH  LINESTRING (18.65600 -33.96065, 18.65602 -33.9...  "
      ]
     },
     "execution_count": 26,
     "metadata": {},
     "output_type": "execute_result"
    },
    {
     "data": {
      "image/png": "[encoded data removed]",
      "text/plain": [
       "<Figure size 432x288 with 1 Axes>"
      ]
     },
     "metadata": {
      "needs_background": "light"
     },
     "output_type": "display_data"
    }
   ],
   "source": [
    "road_segments = gpd.read_file('../data/road_segments/road_segments.shp')\n",
    "road_segments.geometry.plot()\n",
    "road_segments.head()"
   ]
  },
  {
   "cell_type": "code",
   "execution_count": 27,
   "metadata": {},
   "outputs": [
    {
     "data": {
      "text/plain": [
       "552"
      ]
     },
     "execution_count": 27,
     "metadata": {},
     "output_type": "execute_result"
    }
   ],
   "source": [
    "road_segments.segment_id.nunique()"
   ]
  },
  {
   "cell_type": "code",
   "execution_count": null,
   "metadata": {},
   "outputs": [],
   "source": []
  },
  {
   "cell_type": "markdown",
   "metadata": {},
   "source": [
    "# Create a simple model"
   ]
  },
  {
   "cell_type": "code",
   "execution_count": 19,
   "metadata": {},
   "outputs": [
    {
     "data": {
      "text/html": [
       "<div>\n",
       "<style scoped>\n",
       "    .dataframe tbody tr th:only-of-type {\n",
       "        vertical-align: middle;\n",
       "    }\n",
       "\n",
       "    .dataframe tbody tr th {\n",
       "        vertical-align: top;\n",
       "    }\n",
       "\n",
       "    .dataframe thead th {\n",
       "        text-align: right;\n",
       "    }\n",
       "</style>\n",
       "<table border=\"1\" class=\"dataframe\">\n",
       "  <thead>\n",
       "    <tr style=\"text-align: right;\">\n",
       "      <th></th>\n",
       "      <th>datetime x segment_id</th>\n",
       "      <th>prediction</th>\n",
       "    </tr>\n",
       "  </thead>\n",
       "  <tbody>\n",
       "    <tr>\n",
       "      <th>0</th>\n",
       "      <td>2019-01-01 01:00:00 x S0B3CGQ</td>\n",
       "      <td>NaN</td>\n",
       "    </tr>\n",
       "    <tr>\n",
       "      <th>1</th>\n",
       "      <td>2019-01-01 01:00:00 x RYJYAPI</td>\n",
       "      <td>NaN</td>\n",
       "    </tr>\n",
       "    <tr>\n",
       "      <th>2</th>\n",
       "      <td>2019-01-01 01:00:00 x U3KP57C</td>\n",
       "      <td>NaN</td>\n",
       "    </tr>\n",
       "    <tr>\n",
       "      <th>3</th>\n",
       "      <td>2019-01-01 01:00:00 x RY0TRQ8</td>\n",
       "      <td>NaN</td>\n",
       "    </tr>\n",
       "    <tr>\n",
       "      <th>4</th>\n",
       "      <td>2019-01-01 01:00:00 x 8LOVJZ3</td>\n",
       "      <td>NaN</td>\n",
       "    </tr>\n",
       "  </tbody>\n",
       "</table>\n",
       "</div>"
      ],
      "text/plain": [
       "           datetime x segment_id  prediction\n",
       "0  2019-01-01 01:00:00 x S0B3CGQ         NaN\n",
       "1  2019-01-01 01:00:00 x RYJYAPI         NaN\n",
       "2  2019-01-01 01:00:00 x U3KP57C         NaN\n",
       "3  2019-01-01 01:00:00 x RY0TRQ8         NaN\n",
       "4  2019-01-01 01:00:00 x 8LOVJZ3         NaN"
      ]
     },
     "execution_count": 19,
     "metadata": {},
     "output_type": "execute_result"
    }
   ],
   "source": [
    "# what format should sample be in\n",
    "sample_submission = pd.read_csv('../data/SampleSubmission.csv')\n",
    "sample_submission.head()"
   ]
  },
  {
   "cell_type": "code",
   "execution_count": 14,
   "metadata": {},
   "outputs": [],
   "source": [
    "def name_index(row):\n",
    "    return '{time} x {segment}'.format(time=row['Occurrence Local Date Time'],\n",
    "                                                        segment=row['road_segment_id'])"
   ]
  },
  {
   "cell_type": "code",
   "execution_count": 20,
   "metadata": {},
   "outputs": [
    {
     "data": {
      "text/html": [
       "<div>\n",
       "<style scoped>\n",
       "    .dataframe tbody tr th:only-of-type {\n",
       "        vertical-align: middle;\n",
       "    }\n",
       "\n",
       "    .dataframe tbody tr th {\n",
       "        vertical-align: top;\n",
       "    }\n",
       "\n",
       "    .dataframe thead th {\n",
       "        text-align: right;\n",
       "    }\n",
       "</style>\n",
       "<table border=\"1\" class=\"dataframe\">\n",
       "  <thead>\n",
       "    <tr style=\"text-align: right;\">\n",
       "      <th></th>\n",
       "      <th>Occurrence Local Date Time</th>\n",
       "      <th>road_segment_id</th>\n",
       "      <th>prediction</th>\n",
       "    </tr>\n",
       "  </thead>\n",
       "  <tbody>\n",
       "    <tr>\n",
       "      <th>2016-01-01 00:00:00 x RYJYAPI</th>\n",
       "      <td>2016-01-01 00:00:00</td>\n",
       "      <td>RYJYAPI</td>\n",
       "      <td>1.0</td>\n",
       "    </tr>\n",
       "    <tr>\n",
       "      <th>2016-01-01 00:00:00 x S0B3CGQ</th>\n",
       "      <td>2016-01-01 00:00:00</td>\n",
       "      <td>S0B3CGQ</td>\n",
       "      <td>0.0</td>\n",
       "    </tr>\n",
       "    <tr>\n",
       "      <th>2016-01-01 02:00:00 x RY0TRQ8</th>\n",
       "      <td>2016-01-01 02:00:00</td>\n",
       "      <td>RY0TRQ8</td>\n",
       "      <td>0.0</td>\n",
       "    </tr>\n",
       "    <tr>\n",
       "      <th>2016-01-01 02:00:00 x U3KP57C</th>\n",
       "      <td>2016-01-01 02:00:00</td>\n",
       "      <td>U3KP57C</td>\n",
       "      <td>1.0</td>\n",
       "    </tr>\n",
       "    <tr>\n",
       "      <th>2016-01-01 03:00:00 x 8LOVJZ3</th>\n",
       "      <td>2016-01-01 03:00:00</td>\n",
       "      <td>8LOVJZ3</td>\n",
       "      <td>1.0</td>\n",
       "    </tr>\n",
       "  </tbody>\n",
       "</table>\n",
       "</div>"
      ],
      "text/plain": [
       "                              Occurrence Local Date Time road_segment_id  \\\n",
       "2016-01-01 00:00:00 x RYJYAPI        2016-01-01 00:00:00         RYJYAPI   \n",
       "2016-01-01 00:00:00 x S0B3CGQ        2016-01-01 00:00:00         S0B3CGQ   \n",
       "2016-01-01 02:00:00 x RY0TRQ8        2016-01-01 02:00:00         RY0TRQ8   \n",
       "2016-01-01 02:00:00 x U3KP57C        2016-01-01 02:00:00         U3KP57C   \n",
       "2016-01-01 03:00:00 x 8LOVJZ3        2016-01-01 03:00:00         8LOVJZ3   \n",
       "\n",
       "                               prediction  \n",
       "2016-01-01 00:00:00 x RYJYAPI         1.0  \n",
       "2016-01-01 00:00:00 x S0B3CGQ         0.0  \n",
       "2016-01-01 02:00:00 x RY0TRQ8         0.0  \n",
       "2016-01-01 02:00:00 x U3KP57C         1.0  \n",
       "2016-01-01 03:00:00 x 8LOVJZ3         1.0  "
      ]
     },
     "execution_count": 20,
     "metadata": {},
     "output_type": "execute_result"
    }
   ],
   "source": [
    "# naive implementation\n",
    "submission = target.set_index('Occurrence Local Date Time').groupby([pd.Grouper(freq='H'), 'road_segment_id']).isAccident.mean()\n",
    "# change index\n",
    "submission = submission.reset_index()\n",
    "submission.index = submission.apply(name_index , axis=1)\n",
    "# rename target\n",
    "submission = submission.rename(columns={'isAccident':'prediction'})\n",
    "submission.head()"
   ]
  },
  {
   "cell_type": "code",
   "execution_count": null,
   "metadata": {},
   "outputs": [],
   "source": [
    "# do mean  \n",
    "submission['prediction'] = 0"
   ]
  },
  {
   "cell_type": "code",
   "execution_count": 22,
   "metadata": {},
   "outputs": [],
   "source": [
    "sample_submission['prediction'] = 0\n",
    "sample_submission.to_csv('../data/predictions/1.0-zeros.csv', index=False)"
   ]
  },
  {
   "cell_type": "code",
   "execution_count": null,
   "metadata": {},
   "outputs": [],
   "source": []
  }
 ],
 "metadata": {
  "kernelspec": {
   "display_name": "Python 3",
   "language": "python",
   "name": "python3"
  },
  "language_info": {
   "codemirror_mode": {
    "name": "ipython",
    "version": 3
   },
   "file_extension": ".py",
   "mimetype": "text/x-python",
   "name": "python",
   "nbconvert_exporter": "python",
   "pygments_lexer": "ipython3",
   "version": "3.7.3"
  }
 },
 "nbformat": 4,
 "nbformat_minor": 4
}
